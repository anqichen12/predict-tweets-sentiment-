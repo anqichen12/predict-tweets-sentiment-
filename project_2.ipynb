{
 "cells": [
  {
   "cell_type": "markdown",
   "metadata": {},
   "source": [
    "# Q1.1"
   ]
  },
  {
   "cell_type": "markdown",
   "metadata": {},
   "source": [
    "## Used only sentiment and tweet columns, and converted sentiment 0 to -1, 4 to 1."
   ]
  },
  {
   "cell_type": "code",
   "execution_count": 3,
   "metadata": {
    "collapsed": true
   },
   "outputs": [],
   "source": [
    "import pandas as pd\n",
    "import numpy as np\n",
    "import string\n",
    "\n",
    "column_names = ['sentiment','tweet']\n",
    "file = pd.read_csv('training.1600000.processed.noemoticon.csv', usecols = [0, 5], names = column_names, encoding='latin-1')\n",
    "comp_tweet = np.asarray(file['tweet']).tolist()\n",
    "\n",
    "file['sentiment'] = file['sentiment'].apply({0:-1, 4:1}.get)"
   ]
  },
  {
   "cell_type": "code",
   "execution_count": 4,
   "metadata": {},
   "outputs": [
    {
     "data": {
      "text/plain": [
       "array([-1, -1, -1, ...,  1,  1,  1])"
      ]
     },
     "execution_count": 4,
     "metadata": {},
     "output_type": "execute_result"
    }
   ],
   "source": [
    "np.asarray(file['sentiment'])"
   ]
  },
  {
   "cell_type": "markdown",
   "metadata": {},
   "source": [
    "# Q1.2"
   ]
  },
  {
   "cell_type": "markdown",
   "metadata": {},
   "source": [
    "## Read in stopwords and stored stopwords in content."
   ]
  },
  {
   "cell_type": "code",
   "execution_count": 5,
   "metadata": {
    "collapsed": true
   },
   "outputs": [],
   "source": [
    "import pandas as pd\n",
    "import numpy as np\n",
    "import string\n",
    "\n",
    "array = np.asarray(file['tweet']).tolist()\n",
    "with open('stopwords.txt') as f:\n",
    "    content = f.readlines()\n",
    "content = [x.strip() for x in content] \n",
    "\n",
    "sentiment = np.asarray(file['sentiment']).tolist()"
   ]
  },
  {
   "cell_type": "markdown",
   "metadata": {},
   "source": [
    "## Did data cleaning for each tweet and removed words that are stopwords."
   ]
  },
  {
   "cell_type": "code",
   "execution_count": 6,
   "metadata": {
    "collapsed": true
   },
   "outputs": [],
   "source": [
    "import time\n",
    "t0 = time.time()\n",
    "listSum = []\n",
    "word = []\n",
    "for i in range(len(array)):\n",
    "    # remove additional white space, lower case\n",
    "    lower = array[i].lower()\n",
    "    st = ' '.join(lower.split())\n",
    "    # the first part\n",
    "    str_array = st.split(',')[0].split(' ')\n",
    "    list1 = []\n",
    "    for y in str_array:\n",
    "        # convert @\n",
    "        if '@' in y:\n",
    "            y = 'AT-USER'\n",
    "        # convert www\n",
    "        elif 'www.' in y or 'http://' in y or 'https://' in y:\n",
    "            y = 'URL'\n",
    "        # remove punctuation\n",
    "        else:\n",
    "            translator = str.maketrans('', '', string.punctuation)\n",
    "            y = y.translate(translator)\n",
    "        # stopword\n",
    "        if y not in content:\n",
    "            list1.append(y)\n",
    "    word.append(list1)\n",
    "    # replace duplicate words\n",
    "    listSum.append((set(list1),sentiment[i]))\n",
    "elapsed = (time.time() - t0)"
   ]
  },
  {
   "cell_type": "markdown",
   "metadata": {},
   "source": [
    "## Obtained a table of feature vectors and sentiment."
   ]
  },
  {
   "cell_type": "code",
   "execution_count": 8,
   "metadata": {},
   "outputs": [
    {
     "data": {
      "text/plain": [
       "[({'awww'}, -1),\n",
       " ({'blah',\n",
       "   'cant',\n",
       "   'cry',\n",
       "   'facebook',\n",
       "   'result',\n",
       "   'school',\n",
       "   'texting',\n",
       "   'update',\n",
       "   'upset'},\n",
       "  -1),\n",
       " ({'50', 'ball', 'bounds', 'dived', 'managed', 'rest', 'save', 'times'}, -1)]"
      ]
     },
     "execution_count": 8,
     "metadata": {},
     "output_type": "execute_result"
    }
   ],
   "source": [
    "listSum[0:3]"
   ]
  },
  {
   "cell_type": "markdown",
   "metadata": {},
   "source": [
    "# Q1.3"
   ]
  },
  {
   "cell_type": "markdown",
   "metadata": {},
   "source": [
    "## Created bag of words dictionary, where key is word and value is word position."
   ]
  },
  {
   "cell_type": "code",
   "execution_count": 10,
   "metadata": {
    "collapsed": true
   },
   "outputs": [],
   "source": [
    "# bag of words\n",
    "dic = {}\n",
    "tweet = set()\n",
    "for i in range(len(array)):\n",
    "    # remove additional white space, lower case\n",
    "    lower = array[i].lower()\n",
    "    st = ' '.join(lower.split())\n",
    "    # the first part\n",
    "    str_array = st.split(',')[0].split(' ')\n",
    "    list1 = []\n",
    "    for y in str_array:\n",
    "        # convert @\n",
    "        if '@' in y:\n",
    "            y = 'AT-USER'\n",
    "        # convert www\n",
    "        elif 'www.' in y or 'http://' in y or 'https://' in y:\n",
    "            y = 'URL'\n",
    "        # remove punctuation\n",
    "        else:\n",
    "            translator = str.maketrans('', '', string.punctuation)\n",
    "            y = y.translate(translator)\n",
    "        # remove stopword\n",
    "        if y not in content:\n",
    "            length = len(tweet)\n",
    "            tweet.add(y)\n",
    "            length1 = len(tweet)\n",
    "            if length != length1:\n",
    "                dic[y] = length"
   ]
  },
  {
   "cell_type": "markdown",
   "metadata": {},
   "source": [
    "## Used CountVectorizer to create feature vector, where dic is bag of words dictionary, and comp_tweet are the entire words from training data."
   ]
  },
  {
   "cell_type": "code",
   "execution_count": 13,
   "metadata": {
    "collapsed": true
   },
   "outputs": [],
   "source": [
    "from sklearn.feature_extraction.text import CountVectorizer\n",
    "import time\n",
    "t0 = time.time()\n",
    "vectorizer = CountVectorizer(encoding = 'latin1', vocabulary = dic)\n",
    "X = vectorizer.fit_transform(comp_tweet)\n",
    "a = X\n",
    "elapsed = (time.time() - t0)"
   ]
  },
  {
   "cell_type": "code",
   "execution_count": 14,
   "metadata": {},
   "outputs": [
    {
     "data": {
      "text/plain": [
       "22.50324296951294"
      ]
     },
     "execution_count": 14,
     "metadata": {},
     "output_type": "execute_result"
    }
   ],
   "source": [
    "elapsed"
   ]
  },
  {
   "cell_type": "code",
   "execution_count": 15,
   "metadata": {},
   "outputs": [
    {
     "data": {
      "text/plain": [
       "<1600000x389364 sparse matrix of type '<class 'numpy.int64'>'\n",
       "\twith 9012506 stored elements in Compressed Sparse Row format>"
      ]
     },
     "execution_count": 15,
     "metadata": {},
     "output_type": "execute_result"
    }
   ],
   "source": [
    "a"
   ]
  },
  {
   "cell_type": "code",
   "execution_count": 17,
   "metadata": {
    "collapsed": true
   },
   "outputs": [],
   "source": [
    "import sparse\n",
    "from scipy.sparse import csr_matrix, hstack\n",
    "senti = csr_matrix(np.asarray(file['sentiment'])).transpose()\n",
    "b = hstack([a,senti])"
   ]
  },
  {
   "cell_type": "markdown",
   "metadata": {},
   "source": [
    "## Created b: list of feature vector and sentiment attached to it."
   ]
  },
  {
   "cell_type": "code",
   "execution_count": 18,
   "metadata": {},
   "outputs": [
    {
     "data": {
      "text/plain": [
       "<1600000x389365 sparse matrix of type '<class 'numpy.int64'>'\n",
       "\twith 10612506 stored elements in COOrdinate format>"
      ]
     },
     "execution_count": 18,
     "metadata": {},
     "output_type": "execute_result"
    }
   ],
   "source": [
    "b"
   ]
  },
  {
   "cell_type": "markdown",
   "metadata": {},
   "source": [
    "## Q1.4"
   ]
  },
  {
   "cell_type": "markdown",
   "metadata": {},
   "source": [
    "## Loaded train_data and train_label."
   ]
  },
  {
   "cell_type": "code",
   "execution_count": 19,
   "metadata": {
    "collapsed": true
   },
   "outputs": [],
   "source": [
    "fff = b.tocsr()\n",
    "\n",
    "train_data = fff[:,0:389363]\n",
    "train_label = fff[:,389364]"
   ]
  },
  {
   "cell_type": "markdown",
   "metadata": {},
   "source": [
    "## We chose lambda = 0.01, iterations = 5000, batch size = 100. Since ||w0||<=1/sqrt(lambda), we chose initial weight to be 1."
   ]
  },
  {
   "cell_type": "code",
   "execution_count": 90,
   "metadata": {
    "collapsed": true
   },
   "outputs": [],
   "source": [
    "import random\n",
    "import math\n",
    "from numpy import linalg as LA\n",
    "def batchPegasos(data, labels, lambd, T, b):\n",
    "    train_err = []\n",
    "    m,n = data.shape\n",
    "    rang = np.arange(m)\n",
    "    w = np.ones((1,n))\n",
    "    for t in range(1,T+1):\n",
    "        delta_w = np.zeros((1,n))\n",
    "        # do random index in batch size\n",
    "        np.random.shuffle(rang)\n",
    "        eta = 1/(lambd*t)\n",
    "        for k in range(b):\n",
    "            # j: batch index\n",
    "            j = rang[k]\n",
    "            x_train = data[j,:]\n",
    "            y_train = labels[j]\n",
    "            if ((w*x_train.transpose())*y_train)<1:\n",
    "                delta_w += (y_train)*x_train\n",
    "        w=w-(eta*lambd*w-(eta/b)*delta_w)\n",
    "        if 1<(1.0/(math.sqrt(lambd)*LA.norm(w))):\n",
    "            w_res = w\n",
    "        else:\n",
    "            w_res = (1.0/(math.sqrt(lambd)*LA.norm(w)))*w\n",
    "        # compute training error\n",
    "        prod = np.sign(data*w_res.transpose())\n",
    "        error = 1-(np.sum(prod==labels)/labels.size)\n",
    "        train_err.append(error)\n",
    "    return train_err           "
   ]
  },
  {
   "cell_type": "code",
   "execution_count": 92,
   "metadata": {
    "collapsed": true
   },
   "outputs": [],
   "source": [
    "import time\n",
    "t0 = time.time()\n",
    "final_res_4 = batchPegasos(train_data,train_label,0.01,5000,100)\n",
    "elapsed = (time.time() - t0)"
   ]
  },
  {
   "cell_type": "code",
   "execution_count": 93,
   "metadata": {},
   "outputs": [
    {
     "data": {
      "text/plain": [
       "2734.93705701828"
      ]
     },
     "execution_count": 93,
     "metadata": {},
     "output_type": "execute_result"
    }
   ],
   "source": [
    "elapsed "
   ]
  },
  {
   "cell_type": "markdown",
   "metadata": {},
   "source": [
    "## From training error result, we could see that the training error converges to around 0.29 at about 2000 interations."
   ]
  },
  {
   "cell_type": "code",
   "execution_count": 99,
   "metadata": {},
   "outputs": [
    {
     "data": {
      "image/png": "[encoded data removed]",
      "text/plain": [
       "<matplotlib.figure.Figure at 0x121de6d68>"
      ]
     },
     "metadata": {},
     "output_type": "display_data"
    }
   ],
   "source": [
    "import matplotlib\n",
    "import matplotlib.pyplot as plt\n",
    "fig = plt.figure()\n",
    "T = 5000\n",
    "plt.scatter(np.arange(T), final_res_4, marker='s')\n",
    "x = np.arange(T)\n",
    "y = final_res_4\n",
    "plt.title('pegasos training error')\n",
    "plt.xlabel('ieration')\n",
    "plt.ylabel('training error')\n",
    "ax.plot(x,y)\n",
    "plt.show()"
   ]
  },
  {
   "cell_type": "markdown",
   "metadata": {},
   "source": [
    "## Q1.5"
   ]
  },
  {
   "cell_type": "markdown",
   "metadata": {},
   "source": [
    "## We chose iterations = 5000, eta = 1e-2, fudge_factor = 1e-6, batch size = 100. Since ||w0||<=1/sqrt(lambda), we choose initial weight to be 0."
   ]
  },
  {
   "cell_type": "code",
   "execution_count": 102,
   "metadata": {
    "collapsed": true
   },
   "outputs": [],
   "source": [
    "import random\n",
    "import math\n",
    "from numpy import linalg as LA\n",
    "def batchAdaGrad(data,labels,T,eta,fudge_factor,batch_size):\n",
    "    train_err = []\n",
    "    autocorr = 0.95\n",
    "    m,n = data.shape\n",
    "    rang = np.arange(m)\n",
    "    w = np.zeros((1,n))\n",
    "    g_sq = np.zeros((1,n))\n",
    "    for t in range(1,T+1):\n",
    "        f_grad = np.zeros((1,n))\n",
    "        np.random.shuffle(rang)\n",
    "        for k in range(batch_size):\n",
    "            # j: batch index\n",
    "            j = rang[k]\n",
    "            x_train = data[j,:]\n",
    "            y_train = labels[j]\n",
    "            if ((w*x_train.transpose())*y_train)<1:\n",
    "                f_grad += -y_train*x_train\n",
    "        f_grad = f_grad/batch_size\n",
    "        if g_sq.all() == 0:\n",
    "            g_sq = np.asarray(f_grad)**2\n",
    "        else:\n",
    "            g_sq = autocorr*g_sq + (1-autocorr)*np.asarray(f_grad)**2\n",
    "        adjust_grad = f_grad / (fudge_factor + np.sqrt(g_sq))\n",
    "        w=w-eta*adjust_grad\n",
    "        w_res = w\n",
    "        # compute error\n",
    "        prod = np.sign(data*w_res.transpose())\n",
    "        error = 1-(np.sum(prod==labels)/labels.size)\n",
    "        train_err.append(error)\n",
    "    return train_err    "
   ]
  },
  {
   "cell_type": "code",
   "execution_count": 104,
   "metadata": {
    "collapsed": true
   },
   "outputs": [],
   "source": [
    "import time\n",
    "t0 = time.time()\n",
    "final_res_5 = batchAdaGrad(train_data,train_label,5000,1e-2,1e-6,100)\n",
    "elapsed = (time.time() - t0)"
   ]
  },
  {
   "cell_type": "markdown",
   "metadata": {},
   "source": [
    "## From training error result, we could see that the training error converges to around 0.26 at about 5000 interations."
   ]
  },
  {
   "cell_type": "code",
   "execution_count": 114,
   "metadata": {},
   "outputs": [
    {
     "data": {
      "image/png": "[encoded data removed]",
      "text/plain": [
       "<matplotlib.figure.Figure at 0x122cda5c0>"
      ]
     },
     "metadata": {},
     "output_type": "display_data"
    }
   ],
   "source": [
    "import matplotlib\n",
    "import matplotlib.pyplot as plt\n",
    "fig = plt.figure()\n",
    "T = 5000\n",
    "plt.scatter(np.arange(T), final_res_5, marker='s')\n",
    "x = np.arange(T)\n",
    "y = final_res_5\n",
    "plt.title('adagrad training error')\n",
    "plt.xlabel('ieration')\n",
    "plt.ylabel('training error')\n",
    "ax.plot(x,y)\n",
    "plt.show()"
   ]
  },
  {
   "cell_type": "markdown",
   "metadata": {},
   "source": [
    "## Comparing pegasos(blue) with adagrad(orange) training error, we could see that adagrad converges slower."
   ]
  },
  {
   "cell_type": "code",
   "execution_count": 112,
   "metadata": {},
   "outputs": [
    {
     "data": {
      "image/png": "[encoded data removed]",
      "text/plain": [
       "<matplotlib.figure.Figure at 0x12215d5c0>"
      ]
     },
     "metadata": {},
     "output_type": "display_data"
    }
   ],
   "source": [
    "import matplotlib\n",
    "import matplotlib.pyplot as plt\n",
    "fig = plt.figure()\n",
    "T = 5000\n",
    "x = np.arange(T)\n",
    "y1 = final_res_4\n",
    "y2 = final_res_5\n",
    "plt.title('pegasos vs. adagrad train error')\n",
    "plt.xlabel('ieration')\n",
    "plt.ylabel('training error')\n",
    "plt.scatter(x,y1,marker = 's')\n",
    "plt.scatter(x,y2,marker = 's')\n",
    "plt.show()"
   ]
  },
  {
   "cell_type": "code",
   "execution_count": 113,
   "metadata": {},
   "outputs": [
    {
     "data": {
      "text/plain": [
       "1430.4310948848724"
      ]
     },
     "execution_count": 113,
     "metadata": {},
     "output_type": "execute_result"
    }
   ],
   "source": [
    "elapsed"
   ]
  },
  {
   "cell_type": "markdown",
   "metadata": {},
   "source": [
    "## Q1.6"
   ]
  },
  {
   "cell_type": "markdown",
   "metadata": {},
   "source": [
    "## For this problem, we used bag of words dictionary in training data, hence there will be a large number of 0s in feature vectors of test data."
   ]
  },
  {
   "cell_type": "code",
   "execution_count": 42,
   "metadata": {
    "collapsed": true
   },
   "outputs": [],
   "source": [
    "import pandas as pd\n",
    "import numpy as np\n",
    "import string\n",
    "\n",
    "column_names = ['sentiment','tweet']\n",
    "file = pd.read_csv('training.1600000.processed.noemoticon.csv', usecols = [0, 5], names = column_names, encoding='latin-1')\n",
    "comp_tweet = np.asarray(file['tweet']).tolist()\n",
    "file['sentiment'] = file['sentiment'].apply({0:-1, 4:1}.get)\n",
    "\n",
    "array = np.asarray(file['tweet']).tolist()\n",
    "with open('stopwords.txt') as f:\n",
    "    content = f.readlines()\n",
    "content = [x.strip() for x in content] \n",
    "\n",
    "sentiment = np.asarray(file['sentiment']).tolist()"
   ]
  },
  {
   "cell_type": "markdown",
   "metadata": {},
   "source": [
    "## Created bag of words dictionary based on training data."
   ]
  },
  {
   "cell_type": "code",
   "execution_count": 43,
   "metadata": {
    "collapsed": true
   },
   "outputs": [],
   "source": [
    "# bag of words\n",
    "dic = {}\n",
    "tweet = set()\n",
    "for i in range(len(array)):\n",
    "    # remove additional white space, lower case\n",
    "    lower = array[i].lower()\n",
    "    st = ' '.join(lower.split())\n",
    "    # the first part\n",
    "    str_array = st.split(',')[0].split(' ')\n",
    "    list1 = []\n",
    "    for y in str_array:\n",
    "        # @\n",
    "        if '@' in y:\n",
    "            y = 'AT-USER'\n",
    "        # www\n",
    "        elif 'www.' in y or 'http://' in y or 'https://' in y:\n",
    "            y = 'URL'\n",
    "        # punctuation\n",
    "        else:\n",
    "            translator = str.maketrans('', '', string.punctuation)\n",
    "            y = y.translate(translator)\n",
    "        # stopword\n",
    "        if y not in content:\n",
    "            length = len(tweet)\n",
    "            tweet.add(y)\n",
    "            length1 = len(tweet)\n",
    "            if length != length1:\n",
    "                dic[y] = length"
   ]
  },
  {
   "cell_type": "markdown",
   "metadata": {},
   "source": [
    "## Created feature vector and sentiment of training data, in order to train pegasos and adagrad model."
   ]
  },
  {
   "cell_type": "code",
   "execution_count": 44,
   "metadata": {
    "collapsed": true
   },
   "outputs": [],
   "source": [
    "from sklearn.feature_extraction.text import CountVectorizer\n",
    "import time\n",
    "t0 = time.time()\n",
    "vectorizer = CountVectorizer(encoding = 'latin1', vocabulary = dic)\n",
    "X = vectorizer.fit_transform(comp_tweet)\n",
    "a = X\n",
    "elapsed = (time.time() - t0)\n",
    "\n",
    "import sparse\n",
    "from scipy.sparse import csr_matrix, hstack\n",
    "senti = csr_matrix(np.asarray(file['sentiment'])).transpose()\n",
    "b_tr = hstack([a,senti])"
   ]
  },
  {
   "cell_type": "code",
   "execution_count": 45,
   "metadata": {},
   "outputs": [
    {
     "data": {
      "text/plain": [
       "<1600000x389365 sparse matrix of type '<class 'numpy.int64'>'\n",
       "\twith 10612506 stored elements in COOrdinate format>"
      ]
     },
     "execution_count": 45,
     "metadata": {},
     "output_type": "execute_result"
    }
   ],
   "source": [
    "b_tr"
   ]
  },
  {
   "cell_type": "markdown",
   "metadata": {},
   "source": [
    "## Created feature vector and sentiment of test data, in order to test pegasos and adagrad model and get test error."
   ]
  },
  {
   "cell_type": "code",
   "execution_count": 46,
   "metadata": {
    "collapsed": true
   },
   "outputs": [],
   "source": [
    "column_names = ['sentiment','tweet']\n",
    "file = pd.read_csv('testdata.manual.2009.06.14.csv', usecols = [0, 5], names = column_names, encoding='latin-1')\n",
    "comp_tweet_test = np.asarray(file['tweet']).tolist()\n",
    "\n",
    "\n",
    "file['sentiment'] = file['sentiment'].apply({0:-1, 2:1, 4:1}.get)"
   ]
  },
  {
   "cell_type": "code",
   "execution_count": 48,
   "metadata": {
    "collapsed": true
   },
   "outputs": [],
   "source": [
    "from sklearn.feature_extraction.text import CountVectorizer\n",
    "import time\n",
    "t0 = time.time()\n",
    "vectorizer = CountVectorizer(encoding = 'latin1', vocabulary = dic)\n",
    "X = vectorizer.fit_transform(comp_tweet_test)\n",
    "a = X\n",
    "elapsed = (time.time() - t0)\n",
    "\n",
    "import sparse\n",
    "from scipy.sparse import csr_matrix, hstack\n",
    "senti = csr_matrix(np.asarray(file['sentiment'])).transpose()\n",
    "b_te = hstack([a,senti])"
   ]
  },
  {
   "cell_type": "markdown",
   "metadata": {},
   "source": [
    "## Converted b_tr and b_te to csr matrix. Loaded training data, training label, test data and test labels. "
   ]
  },
  {
   "cell_type": "code",
   "execution_count": null,
   "metadata": {
    "collapsed": true
   },
   "outputs": [],
   "source": [
    "ddd = b_tr.tocsr()\n",
    "tr_data = ddd[:,0:389363]\n",
    "tr_label = ddd[:,389364]\n",
    "\n",
    "fff = b_te.tocsr()\n",
    "te_data = fff[:,0:389363]\n",
    "te_label = fff[:,389364]"
   ]
  },
  {
   "cell_type": "markdown",
   "metadata": {},
   "source": [
    "## Pegasos test error"
   ]
  },
  {
   "cell_type": "code",
   "execution_count": 50,
   "metadata": {
    "collapsed": true
   },
   "outputs": [],
   "source": [
    "import random\n",
    "import math\n",
    "from numpy import linalg as LA\n",
    "def batchPegasos(test_data, test_labels, train_data, train_labels,lambd, T, b):\n",
    "    test_err = []\n",
    "    m,n = train_data.shape\n",
    "    rang = np.arange(m)\n",
    "    w = np.ones((1,n))\n",
    "    for t in range(1,T+1):\n",
    "        delta_w = np.zeros((1,n))\n",
    "        np.random.shuffle(rang)\n",
    "        eta = 1/(lambd*t)\n",
    "        for k in range(b):\n",
    "            # j: batch index\n",
    "            j = rang[k]\n",
    "            x_train = train_data[j,:]\n",
    "            y_train = train_labels[j]\n",
    "            if ((w*x_train.transpose())*y_train)<1:\n",
    "                delta_w += (y_train)*x_train\n",
    "        w=w-(eta*lambd*w-(eta/b)*delta_w)\n",
    "        if 1<(1.0/(math.sqrt(lambd)*LA.norm(w))):\n",
    "            w_res = w\n",
    "        else:\n",
    "            w_res = (1.0/(math.sqrt(lambd)*LA.norm(w)))*w\n",
    "        prod = np.sign(test_data*w_res.transpose())\n",
    "        error = 1-(np.sum(prod==test_labels)/test_labels.size)\n",
    "        test_err.append(error)\n",
    "    return test_err"
   ]
  },
  {
   "cell_type": "code",
   "execution_count": null,
   "metadata": {
    "collapsed": true
   },
   "outputs": [],
   "source": [
    "import time\n",
    "t0 = time.time()\n",
    "final_res = batchPegasos(te_data,te_label,tr_data,tr_label,0.01,5000,100)\n",
    "elapsed = (time.time() - t0)"
   ]
  },
  {
   "cell_type": "markdown",
   "metadata": {},
   "source": [
    "## There is a shape decrease at first iterations. Pegasos accuracy converges to 0.75. Pegasos test error converges to around 0.25."
   ]
  },
  {
   "cell_type": "code",
   "execution_count": 53,
   "metadata": {},
   "outputs": [
    {
     "data": {
      "image/png": "[encoded data removed]",
      "text/plain": [
       "<matplotlib.figure.Figure at 0x118782c18>"
      ]
     },
     "metadata": {},
     "output_type": "display_data"
    }
   ],
   "source": [
    "import matplotlib\n",
    "import matplotlib.pyplot as plt\n",
    "fig = plt.figure()\n",
    "ax = fig.add_subplot(111)\n",
    "T = 5000\n",
    "ax.scatter(np.arange(T), final_res, marker='s')\n",
    "x = np.arange(T)\n",
    "y = final_res\n",
    "ax.plot(x,y)\n",
    "plt.show()"
   ]
  },
  {
   "cell_type": "markdown",
   "metadata": {},
   "source": [
    "## Adagrad test error"
   ]
  },
  {
   "cell_type": "code",
   "execution_count": 54,
   "metadata": {
    "collapsed": true
   },
   "outputs": [],
   "source": [
    "import random\n",
    "import math\n",
    "from numpy import linalg as LA\n",
    "def batchAdaGrad(test_data, test_labels, train_data, train_labels, T,eta,fudge_factor,batch_size):\n",
    "    test_err = []\n",
    "    autocorr = 0.95\n",
    "    m,n = train_data.shape\n",
    "    rang = np.arange(m)\n",
    "    w = np.zeros((1,n))\n",
    "    g_sq = np.zeros((1,n))\n",
    "    for t in range(1,T+1):\n",
    "        f_grad = np.zeros((1,n))\n",
    "        np.random.shuffle(rang)\n",
    "        for k in range(batch_size):\n",
    "            # j: batch index\n",
    "            j = rang[k]\n",
    "            x_train = train_data[j,:]\n",
    "            y_train = train_labels[j]\n",
    "            if ((w*x_train.transpose())*y_train)<1:\n",
    "                f_grad += -y_train*x_train\n",
    "        f_grad = f_grad/batch_size\n",
    "        if g_sq.all() == 0:\n",
    "            g_sq = np.asarray(f_grad)**2\n",
    "        else:\n",
    "            g_sq = autocorr*g_sq + (1-autocorr)*np.asarray(f_grad)**2\n",
    "        adjust_grad = f_grad / (fudge_factor + np.sqrt(g_sq))\n",
    "        w=w-eta*adjust_grad\n",
    "        w_res = w\n",
    "        prod = np.sign(test_data*w_res.transpose())\n",
    "        error = 1-(np.sum(prod==test_labels)/test_labels.size)\n",
    "        test_err.append(error)\n",
    "    return test_err "
   ]
  },
  {
   "cell_type": "code",
   "execution_count": null,
   "metadata": {
    "collapsed": true
   },
   "outputs": [],
   "source": [
    "import time\n",
    "t0 = time.time()\n",
    "final_res = batchAdaGrad(te_data,te_label,tr_data,tr_label, 5000,1e-2,1e-6,100)\n",
    "elapsed = (time.time() - t0)"
   ]
  },
  {
   "cell_type": "code",
   "execution_count": 58,
   "metadata": {},
   "outputs": [
    {
     "data": {
      "text/plain": [
       "955.3584632873535"
      ]
     },
     "execution_count": 58,
     "metadata": {},
     "output_type": "execute_result"
    }
   ],
   "source": [
    "elapsed"
   ]
  },
  {
   "cell_type": "markdown",
   "metadata": {},
   "source": [
    "## Adagrad accuracy converges to 0.83. Adagrad test error converges to about 0.17."
   ]
  },
  {
   "cell_type": "code",
   "execution_count": 57,
   "metadata": {},
   "outputs": [
    {
     "data": {
      "image/png": "[encoded data removed]",
      "text/plain": [
       "<matplotlib.figure.Figure at 0x11ce0fb38>"
      ]
     },
     "metadata": {},
     "output_type": "display_data"
    }
   ],
   "source": [
    "import matplotlib\n",
    "import matplotlib.pyplot as plt\n",
    "fig = plt.figure()\n",
    "ax = fig.add_subplot(111)\n",
    "T = 5000\n",
    "ax.scatter(np.arange(T), final_res, marker='s')\n",
    "x = np.arange(T)\n",
    "y = final_res\n",
    "plt.title('adagrad test error')\n",
    "ax.plot(x,y)\n",
    "plt.show()"
   ]
  }
 ],
 "metadata": {
  "kernelspec": {
   "display_name": "Python 3",
   "language": "python",
   "name": "python3"
  },
  "language_info": {
   "codemirror_mode": {
    "name": "ipython",
    "version": 3
   },
   "file_extension": ".py",
   "mimetype": "text/x-python",
   "name": "python",
   "nbconvert_exporter": "python",
   "pygments_lexer": "ipython3",
   "version": "3.6.1"
  }
 },
 "nbformat": 4,
 "nbformat_minor": 2
}
